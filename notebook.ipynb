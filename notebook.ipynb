{
  "nbformat": 4,
  "nbformat_minor": 0,
  "metadata": {
    "colab": {
      "provenance": [],
      "authorship_tag": "ABX9TyMeBZePPPLo/F/TRKnulQvH",
      "include_colab_link": true
    },
    "kernelspec": {
      "name": "python3",
      "display_name": "Python 3"
    },
    "language_info": {
      "name": "python"
    }
  },
  "cells": [
    {
      "cell_type": "markdown",
      "metadata": {
        "id": "view-in-github",
        "colab_type": "text"
      },
      "source": [
        "<a href=\"https://colab.research.google.com/github/alandgmendes/excel_extraction_formulas_facilitadora/blob/main/notebook.ipynb\" target=\"_parent\"><img src=\"https://colab.research.google.com/assets/colab-badge.svg\" alt=\"Open In Colab\"/></a>"
      ]
    },
    {
      "cell_type": "code",
      "source": [
        "!pip install openpyxl"
      ],
      "metadata": {
        "colab": {
          "base_uri": "https://localhost:8080/"
        },
        "id": "qRsRjuP52ITF",
        "outputId": "f0884b0f-5497-4cf1-e43d-0b50e6fac8ab"
      },
      "execution_count": 1,
      "outputs": [
        {
          "output_type": "stream",
          "name": "stdout",
          "text": [
            "Requirement already satisfied: openpyxl in /usr/local/lib/python3.10/dist-packages (3.1.2)\n",
            "Requirement already satisfied: et-xmlfile in /usr/local/lib/python3.10/dist-packages (from openpyxl) (1.1.0)\n"
          ]
        }
      ]
    },
    {
      "cell_type": "code",
      "source": [
        "import openpyxl\n",
        "from google.colab import drive\n",
        "import pandas as pd\n",
        "\n",
        "# Mount Google Drive\n",
        "drive.mount('/content/drive')"
      ],
      "metadata": {
        "colab": {
          "base_uri": "https://localhost:8080/"
        },
        "id": "8lFX4A4l2S-e",
        "outputId": "7436d483-a10f-4f4d-815a-5478c3079566"
      },
      "execution_count": 28,
      "outputs": [
        {
          "output_type": "stream",
          "name": "stdout",
          "text": [
            "Drive already mounted at /content/drive; to attempt to forcibly remount, call drive.mount(\"/content/drive\", force_remount=True).\n"
          ]
        }
      ]
    },
    {
      "cell_type": "code",
      "source": [
        "# Path to the Excel file in your Google Drive\n",
        "excel_file_path = '/content/drive/MyDrive/Fluxo de Caixa Diário.xlsx'"
      ],
      "metadata": {
        "id": "I26dozxH2n74"
      },
      "execution_count": 4,
      "outputs": []
    },
    {
      "cell_type": "code",
      "source": [
        "# Load the Excel workbook without data_only parameter\n",
        "workbook = openpyxl.load_workbook(excel_file_path)"
      ],
      "metadata": {
        "id": "8PbIdMfC3Glq"
      },
      "execution_count": 12,
      "outputs": []
    },
    {
      "cell_type": "code",
      "execution_count": 25,
      "metadata": {
        "id": "Rb5LGaAp0Ejc"
      },
      "outputs": [],
      "source": [
        "def create_dataframe_from_sheet(sheet):\n",
        "    data = {'Coordinate': [], 'Value': []}\n",
        "    for row in sheet.iter_rows():\n",
        "        for cell in row:\n",
        "            data['Coordinate'].append(cell.coordinate)\n",
        "            data['Value'].append(str(cell.value))\n",
        "    return pd.DataFrame(data)\n",
        "\n",
        "def read_excel_and_create_dataframe(workbook):\n",
        "    frames = []\n",
        "    # Iterate over all sheets in the workbook\n",
        "    for sheet_name in workbook.sheetnames:\n",
        "        sheet = workbook[sheet_name]\n",
        "\n",
        "        # Create DataFrame from the sheet\n",
        "        df = create_dataframe_from_sheet(sheet)\n",
        "        frames.append(df)\n",
        "\n",
        "    # Concatenate DataFrames from all sheets\n",
        "    result_df = pd.concat(frames, keys=workbook.sheetnames, names=['Sheet'])\n",
        "\n",
        "    return result_df\n",
        "\n"
      ]
    },
    {
      "cell_type": "code",
      "source": [
        "# Output file path\n",
        "output_file_path = 'cell_values.txt'\n"
      ],
      "metadata": {
        "id": "ecbOcjwm53RQ"
      },
      "execution_count": 26,
      "outputs": []
    },
    {
      "cell_type": "code",
      "source": [
        "# Read cell values from the Excel file and create a DataFrame\n",
        "df = read_excel_and_create_dataframe(workbook)\n",
        "# Close the workbook\n",
        "workbook.close()\n",
        "# Export the DataFrame to a text file\n",
        "#df.to_csv(output_file_path, sep='\\t')\n",
        "\n",
        "# Reset index to remove the 'Sheet' level\n",
        "df_reset = df.reset_index(level='Sheet', drop=True)\n",
        "\n",
        "\n"
      ],
      "metadata": {
        "id": "tSPbBhxD4uNE"
      },
      "execution_count": 31,
      "outputs": []
    },
    {
      "cell_type": "code",
      "source": [
        "# Create a new DataFrame with non-'None' values\n",
        "filtered_df = df_reset[df_reset['Value'].str.lower() != 'none']\n"
      ],
      "metadata": {
        "id": "l9M48sOv96cs"
      },
      "execution_count": 35,
      "outputs": []
    },
    {
      "cell_type": "code",
      "source": [
        "print(filtered_df.head(100))"
      ],
      "metadata": {
        "colab": {
          "base_uri": "https://localhost:8080/"
        },
        "id": "FlZdSiC38oy5",
        "outputId": "997a0329-09ae-4880-cd35-09f0cbce0ef9"
      },
      "execution_count": 37,
      "outputs": [
        {
          "output_type": "stream",
          "name": "stdout",
          "text": [
            "    Coordinate                                              Value\n",
            "0           A1                                               Menu\n",
            "20          C2                                          Empresa: \n",
            "74          C5                                                1.0\n",
            "76          E5                              Fluxo de Caixa Diário\n",
            "94          E6  Registre diariamente as entradas e saídas do s...\n",
            "..         ...                                                ...\n",
            "233        AD7                                      =SUM(AD8:AD9)\n",
            "234        AE7                                      =SUM(AE8:AE9)\n",
            "235        AF7                                      =SUM(AF8:AF9)\n",
            "236        AG7                                      =SUM(AG8:AG9)\n",
            "237        AH7                                      =SUM(AH8:AH9)\n",
            "\n",
            "[100 rows x 2 columns]\n"
          ]
        }
      ]
    },
    {
      "cell_type": "code",
      "source": [
        "# Create a new DataFrame with formula values\n",
        "formula_df = df[df['Value'].str.startswith('=')]\n",
        "\n",
        "\n",
        "\n",
        "# Display the filtered DataFrame\n",
        "print(formula_df.head(300))"
      ],
      "metadata": {
        "colab": {
          "base_uri": "https://localhost:8080/"
        },
        "id": "S04_aZsI-Q0Y",
        "outputId": "9143108a-b4a8-444c-8d5e-8855755e2b4a"
      },
      "execution_count": 44,
      "outputs": [
        {
          "output_type": "stream",
          "name": "stdout",
          "text": [
            "                Coordinate            Value\n",
            "Sheet                                      \n",
            "FC-JANEIRO 1            B1     ='Início'!C2\n",
            "           206          C7      =SUM(C8:C9)\n",
            "           207          D7      =SUM(D8:D9)\n",
            "           208          E7      =SUM(E8:E9)\n",
            "           209          F7      =SUM(F8:F9)\n",
            "...                    ...              ...\n",
            "           2032       AA60  =SUM(AA61:AA68)\n",
            "           2033       AB60  =SUM(AB61:AB68)\n",
            "           2034       AC60  =SUM(AC61:AC68)\n",
            "           2035       AD60  =SUM(AD61:AD68)\n",
            "           2036       AE60  =SUM(AE61:AE68)\n",
            "\n",
            "[300 rows x 2 columns]\n"
          ]
        }
      ]
    },
    {
      "cell_type": "code",
      "source": [
        "# Get unique values in the 'Sheet' column\n",
        "unique_sheet_values = df.index.get_level_values('Sheet').unique()\n",
        "\n",
        "# Print the unique values\n",
        "print(unique_sheet_values)"
      ],
      "metadata": {
        "colab": {
          "base_uri": "https://localhost:8080/"
        },
        "id": "dk5EkonM_H34",
        "outputId": "c55c41d9-c296-40e3-db74-3d2cb2189bb5"
      },
      "execution_count": 45,
      "outputs": [
        {
          "output_type": "stream",
          "name": "stdout",
          "text": [
            "Index(['Início', 'FC-JANEIRO', 'FC-FEVEREIRO', 'FC-MARÇO', 'FC-ABRIL',\n",
            "       'FC-MAIO', 'FC-JUNHO', 'FC-JULHO', 'FC-AGOSTO', 'FC-SETEMBRO',\n",
            "       'FC-OUTUBRO', 'FC-NOVEMBRO', 'FC-DEZEMBRO', 'Fluxo de Caixa Mensal',\n",
            "       'Fluxo de Caixa - Projetado', 'Fluxo de Caixa - Indicador', 'DRE',\n",
            "       'DRE  - Projetado', 'DRE  - Indicador', 'Indicadores', 'Gráficos',\n",
            "       'Plano de Ação'],\n",
            "      dtype='object', name='Sheet')\n"
          ]
        }
      ]
    },
    {
      "cell_type": "code",
      "source": [
        "# Reset the index to make 'Sheet' a regular column\n",
        "df_reset = df.reset_index()\n",
        "\n",
        "# Update the 'Sheet' column with the values from the previous index\n",
        "df_reset['Sheet'] = df.index.get_level_values('Sheet')\n",
        "\n",
        "# Print the updated DataFrame\n",
        "print(df_reset)"
      ],
      "metadata": {
        "colab": {
          "base_uri": "https://localhost:8080/"
        },
        "id": "y5XmiPwyAGq6",
        "outputId": "d820d6dc-6fb0-4b1c-a2c7-d13d18deec5c"
      },
      "execution_count": 46,
      "outputs": [
        {
          "output_type": "stream",
          "name": "stdout",
          "text": [
            "                Sheet  level_1 Coordinate Value\n",
            "0              Início        0         A1  Menu\n",
            "1              Início        1         B1  None\n",
            "2              Início        2         C1  None\n",
            "3              Início        3         D1  None\n",
            "4              Início        4         E1  None\n",
            "...               ...      ...        ...   ...\n",
            "669995  Plano de Ação    28995      Y1000  None\n",
            "669996  Plano de Ação    28996      Z1000  None\n",
            "669997  Plano de Ação    28997     AA1000  None\n",
            "669998  Plano de Ação    28998     AB1000  None\n",
            "669999  Plano de Ação    28999     AC1000  None\n",
            "\n",
            "[670000 rows x 4 columns]\n"
          ]
        }
      ]
    },
    {
      "cell_type": "code",
      "source": [
        "# Reset the index to make 'Sheet' a regular column\n",
        "df = df.reset_index(level='Sheet')\n",
        "\n",
        "# Print the updated DataFrame\n",
        "print(df)"
      ],
      "metadata": {
        "colab": {
          "base_uri": "https://localhost:8080/"
        },
        "id": "AwUIHOxFAKvQ",
        "outputId": "e9396920-d8f7-4dfd-e210-1eea701d0389"
      },
      "execution_count": 51,
      "outputs": [
        {
          "output_type": "stream",
          "name": "stdout",
          "text": [
            "               Sheet Coordinate Value\n",
            "0             Início         A1  Menu\n",
            "1             Início         B1  None\n",
            "2             Início         C1  None\n",
            "3             Início         D1  None\n",
            "4             Início         E1  None\n",
            "...              ...        ...   ...\n",
            "28995  Plano de Ação      Y1000  None\n",
            "28996  Plano de Ação      Z1000  None\n",
            "28997  Plano de Ação     AA1000  None\n",
            "28998  Plano de Ação     AB1000  None\n",
            "28999  Plano de Ação     AC1000  None\n",
            "\n",
            "[670000 rows x 3 columns]\n"
          ]
        }
      ]
    },
    {
      "cell_type": "code",
      "source": [
        "print(df[\"Sheet\"].unique())"
      ],
      "metadata": {
        "colab": {
          "base_uri": "https://localhost:8080/"
        },
        "id": "XU-EjhikAY0C",
        "outputId": "724fa667-b302-4d88-ff0d-e7941b980c92"
      },
      "execution_count": 52,
      "outputs": [
        {
          "output_type": "stream",
          "name": "stdout",
          "text": [
            "['Início' 'FC-JANEIRO' 'FC-FEVEREIRO' 'FC-MARÇO' 'FC-ABRIL' 'FC-MAIO'\n",
            " 'FC-JUNHO' 'FC-JULHO' 'FC-AGOSTO' 'FC-SETEMBRO' 'FC-OUTUBRO'\n",
            " 'FC-NOVEMBRO' 'FC-DEZEMBRO' 'Fluxo de Caixa Mensal'\n",
            " 'Fluxo de Caixa - Projetado' 'Fluxo de Caixa - Indicador' 'DRE'\n",
            " 'DRE  - Projetado' 'DRE  - Indicador' 'Indicadores' 'Gráficos'\n",
            " 'Plano de Ação']\n"
          ]
        }
      ]
    },
    {
      "cell_type": "code",
      "source": [
        "# Filter rows where 'Sheet' is equal to 'FC-JANEIRO' and 'Value' starts with '='\n",
        "filtered_rows = df_reset[(df_reset['Sheet'] == 'FC-JANEIRO') & (df_reset['Value'].str.startswith('='))]\n",
        "\n",
        "# Print the filtered DataFrame\n",
        "print(filtered_rows)"
      ],
      "metadata": {
        "colab": {
          "base_uri": "https://localhost:8080/"
        },
        "id": "V2Pvo5KjA7i5",
        "outputId": "6c671e23-724c-4393-c861-a3683f3523b1"
      },
      "execution_count": 54,
      "outputs": [
        {
          "output_type": "stream",
          "name": "stdout",
          "text": [
            "           Sheet Coordinate         Value\n",
            "1     FC-JANEIRO         B1  ='Início'!C2\n",
            "206   FC-JANEIRO         C7   =SUM(C8:C9)\n",
            "207   FC-JANEIRO         D7   =SUM(D8:D9)\n",
            "208   FC-JANEIRO         E7   =SUM(E8:E9)\n",
            "209   FC-JANEIRO         F7   =SUM(F8:F9)\n",
            "...          ...        ...           ...\n",
            "5809  FC-JANEIRO      AD171  =AD169+AD170\n",
            "5810  FC-JANEIRO      AE171  =AE169+AE170\n",
            "5811  FC-JANEIRO      AF171  =AF169+AF170\n",
            "5812  FC-JANEIRO      AG171  =AG169+AG170\n",
            "5813  FC-JANEIRO      AH171  =AH169+AH170\n",
            "\n",
            "[785 rows x 3 columns]\n"
          ]
        }
      ]
    }
  ]
}